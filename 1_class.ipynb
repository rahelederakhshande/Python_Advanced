{
 "cells": [
  {
   "cell_type": "code",
   "execution_count": 15,
   "metadata": {},
   "outputs": [],
   "source": [
    "balance =0\n",
    "def deposit(amount):\n",
    "    global balance\n",
    "    balance +=amount\n",
    "    return balance\n"
   ]
  },
  {
   "cell_type": "code",
   "execution_count": 16,
   "metadata": {},
   "outputs": [],
   "source": [
    "def withdraw(amount):\n",
    "    global balance\n",
    "    if amount>balance:\n",
    "        print(\"Error\")\n",
    "    else:\n",
    "        balance -=amount\n",
    "    return balance    "
   ]
  },
  {
   "cell_type": "code",
   "execution_count": 17,
   "metadata": {},
   "outputs": [
    {
     "name": "stdout",
     "output_type": "stream",
     "text": [
      "20\n",
      "20\n",
      "10\n"
     ]
    }
   ],
   "source": [
    "balance = 0\n",
    "x=deposit(20)\n",
    "print(x)\n",
    "print(balance)\n",
    "y=withdraw(10)\n",
    "print(y)"
   ]
  },
  {
   "cell_type": "code",
   "execution_count": 1,
   "metadata": {},
   "outputs": [],
   "source": [
    "class Student:\n",
    "    name=\"Ali\"\n",
    "    age=\"18\"\n",
    "    stu_num=\"S123\"\n",
    "    Score=17"
   ]
  },
  {
   "cell_type": "code",
   "execution_count": 3,
   "metadata": {},
   "outputs": [
    {
     "name": "stdout",
     "output_type": "stream",
     "text": [
      "Ali\n",
      "Ali\n"
     ]
    }
   ],
   "source": [
    "s1=Student()\n",
    "print(s1.name)\n",
    "s2=Student()\n",
    "print(s2.name)"
   ]
  },
  {
   "cell_type": "code",
   "execution_count": 6,
   "metadata": {},
   "outputs": [],
   "source": [
    "def f1():\n",
    "    global x1\n",
    "    x1 +=1\n",
    "    return x1\n"
   ]
  },
  {
   "cell_type": "code",
   "execution_count": 7,
   "metadata": {},
   "outputs": [
    {
     "data": {
      "text/plain": [
       "3"
      ]
     },
     "execution_count": 7,
     "metadata": {},
     "output_type": "execute_result"
    }
   ],
   "source": [
    "x1=2\n",
    "f1()"
   ]
  },
  {
   "cell_type": "code",
   "execution_count": 21,
   "metadata": {},
   "outputs": [],
   "source": [
    "class Student:\n",
    "    def __init__(self,name,age,stu_num,score):\n",
    "        self.name=name\n",
    "        self.age=age\n",
    "        self.stu_num=stu_num\n",
    "        self.score=score\n",
    "    def __str__(self):\n",
    "        return f\"name:{self.name},age:{self.age},Student number:{self.stu_num},score:{self.score}\"\n",
    "    \n",
    "    def show_score(self):\n",
    "        print(f\"Your Score:{self.score}\")"
   ]
  },
  {
   "cell_type": "code",
   "execution_count": 26,
   "metadata": {},
   "outputs": [],
   "source": [
    "class Account:\n",
    "    def __init__(self,owner,balance):\n",
    "        self.owner=owner\n",
    "        self.balance=balance\n",
    "\n",
    "    def deposit(self,amount):\n",
    "        self.balance +=amount\n",
    "\n",
    "    def withdraw(self,amount):\n",
    "        if amount> self.balance:\n",
    "            print(\"Error!\")\n",
    "        else:\n",
    "            self.balance -=amount"
   ]
  },
  {
   "cell_type": "code",
   "execution_count": 27,
   "metadata": {},
   "outputs": [
    {
     "name": "stdout",
     "output_type": "stream",
     "text": [
      "100\n",
      "300\n",
      "180\n"
     ]
    }
   ],
   "source": [
    "a1=Account(\"A\",100)\n",
    "print(a1.balance)\n",
    "a1.deposit(200)\n",
    "print(a1.balance)\n",
    "a1.withdraw(120)\n",
    "print(a1.balance)"
   ]
  },
  {
   "cell_type": "code",
   "execution_count": 28,
   "metadata": {},
   "outputs": [
    {
     "name": "stdout",
     "output_type": "stream",
     "text": [
      "0\n",
      "80\n"
     ]
    }
   ],
   "source": [
    "a2=Account(\"B\",0)\n",
    "print(a2.balance)\n",
    "a2.deposit(80)\n",
    "print(a2.balance)"
   ]
  },
  {
   "cell_type": "code",
   "execution_count": 10,
   "metadata": {},
   "outputs": [
    {
     "name": "stdout",
     "output_type": "stream",
     "text": [
      "A\n",
      "B\n"
     ]
    }
   ],
   "source": [
    "s1=Student(\"A\",19,\"S123\",14)\n",
    "print(s1.name)\n",
    "s2=Student(\"B\",15,\"S2222\",18)"
   ]
  },
  {
   "cell_type": "code",
   "execution_count": 23,
   "metadata": {},
   "outputs": [
    {
     "name": "stdout",
     "output_type": "stream",
     "text": [
      "name:A,age:19,Student number:S123,score:14\n",
      "Your Score:14\n"
     ]
    }
   ],
   "source": [
    "s3=Student(\"A\",19,\"S123\",14)\n",
    "print(s3)\n",
    "s3.show_score()"
   ]
  }
 ],
 "metadata": {
  "kernelspec": {
   "display_name": "Python 3",
   "language": "python",
   "name": "python3"
  },
  "language_info": {
   "codemirror_mode": {
    "name": "ipython",
    "version": 3
   },
   "file_extension": ".py",
   "mimetype": "text/x-python",
   "name": "python",
   "nbconvert_exporter": "python",
   "pygments_lexer": "ipython3",
   "version": "3.12.0"
  }
 },
 "nbformat": 4,
 "nbformat_minor": 2
}

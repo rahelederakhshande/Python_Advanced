{
 "cells": [
  {
   "cell_type": "markdown",
   "metadata": {},
   "source": [
    "### Class"
   ]
  },
  {
   "cell_type": "code",
   "execution_count": 5,
   "metadata": {},
   "outputs": [],
   "source": [
    "class Student:\n",
    "    def __init__(self, name, stu_num, scores):\n",
    "        self.name = name\n",
    "        self.stu_num = stu_num\n",
    "        self.scores = scores\n",
    "    def calc_avg(self):\n",
    "        result = sum(self.scores) / len(self.scores)\n",
    "        self.avg = result\n",
    "    def __str__(self):\n",
    "        return f\"name:{self.name},student number:{self.stu_num},scores:{self.scores}\""
   ]
  },
  {
   "cell_type": "markdown",
   "metadata": {},
   "source": [
    "### Object"
   ]
  },
  {
   "cell_type": "code",
   "execution_count": 6,
   "metadata": {},
   "outputs": [
    {
     "name": "stdout",
     "output_type": "stream",
     "text": [
      "name:Sara,student number:S123,scores:[12, 13, 16]\n",
      "name:Ali,student number:S143,scores:[12, 13, 16]\n"
     ]
    }
   ],
   "source": [
    "student1 = Student(\"Sara\", \"S123\", [12, 13, 16])\n",
    "student2 = Student(\"Ali\", \"S143\", [12, 13, 16])\n",
    "print(student1)\n",
    "print(student2)"
   ]
  },
  {
   "cell_type": "code",
   "execution_count": 7,
   "metadata": {},
   "outputs": [
    {
     "name": "stdout",
     "output_type": "stream",
     "text": [
      "{'name': 'Sara', 'stu_num': 'S123', 'scores': [12, 13, 16]}\n"
     ]
    }
   ],
   "source": [
    "print(vars(student1))"
   ]
  },
  {
   "cell_type": "code",
   "execution_count": 8,
   "metadata": {},
   "outputs": [],
   "source": [
    "student1.calc_avg()"
   ]
  },
  {
   "cell_type": "code",
   "execution_count": 9,
   "metadata": {},
   "outputs": [
    {
     "name": "stdout",
     "output_type": "stream",
     "text": [
      "{'name': 'Sara', 'stu_num': 'S123', 'scores': [12, 13, 16], 'avg': 13.666666666666666}\n"
     ]
    }
   ],
   "source": [
    "print(vars(student1))"
   ]
  },
  {
   "cell_type": "markdown",
   "metadata": {},
   "source": [
    "### Attributes\n",
    "1. instance attributes\n",
    "2. class attributes"
   ]
  },
  {
   "cell_type": "code",
   "execution_count": 14,
   "metadata": {},
   "outputs": [],
   "source": [
    "class Student:\n",
    "    # class attributes\n",
    "    number_of_student = 0\n",
    "    def __init__(self, name, stu_num, scores):\n",
    "        # instance attributes\n",
    "        self.name = name\n",
    "        self.stu_num = stu_num\n",
    "        self.scores = scores\n",
    "        Student.number_of_student += 1\n",
    "    def calc_avg(self):\n",
    "        result = sum(self.scores) / len(self.scores)\n",
    "        self.avg = result\n",
    "    def __str__(self):\n",
    "        return f\"name:{self.name},student number:{self.stu_num},scores:{self.scores}\""
   ]
  },
  {
   "cell_type": "code",
   "execution_count": 17,
   "metadata": {},
   "outputs": [
    {
     "name": "stdout",
     "output_type": "stream",
     "text": [
      "1\n",
      "2\n"
     ]
    }
   ],
   "source": [
    "print(Student.number_of_student)\n",
    "s1 = Student(\"a1\", \"S123\", [12])\n",
    "print(Student.number_of_student)"
   ]
  },
  {
   "cell_type": "code",
   "execution_count": 18,
   "metadata": {},
   "outputs": [
    {
     "name": "stdout",
     "output_type": "stream",
     "text": [
      "3\n"
     ]
    }
   ],
   "source": [
    "s2 = Student(\"a4\", \"S123\", [12])\n",
    "print(Student.number_of_student)"
   ]
  },
  {
   "cell_type": "code",
   "execution_count": 19,
   "metadata": {},
   "outputs": [
    {
     "data": {
      "text/plain": [
       "3"
      ]
     },
     "execution_count": 19,
     "metadata": {},
     "output_type": "execute_result"
    }
   ],
   "source": [
    "s2.number_of_student"
   ]
  },
  {
   "cell_type": "markdown",
   "metadata": {},
   "source": [
    "## Methods\n",
    "1. instance methods  ====> object, self  ===> (self)\n",
    "2. class methods    ====> object, className, cls ===> (cls)\n",
    "3. static methods   ====> object, className, self ===> ()"
   ]
  },
  {
   "cell_type": "code",
   "execution_count": 45,
   "metadata": {},
   "outputs": [],
   "source": [
    "class Student:\n",
    "    # class attributes\n",
    "    number_of_student = 0\n",
    "    def __init__(self, name, stu_num, scores):\n",
    "        # instance attributes\n",
    "        self.name = name\n",
    "        self.is_valid_number(stu_num) # raise\n",
    "        self.stu_num = stu_num\n",
    "        self.scores = scores\n",
    "        Student.number_of_student += 1\n",
    "    # instance method\n",
    "    def calc_avg(self):\n",
    "        result = sum(self.scores) / len(self.scores)\n",
    "        self.avg = result\n",
    "    @classmethod\n",
    "    def show_numbers(cls):\n",
    "        print(\"class method: \",cls.number_of_student)\n",
    "    @classmethod\n",
    "    def add_numbers(cls):\n",
    "        cls.show_numbers()\n",
    "        cls.number_of_student += 5\n",
    "    @staticmethod\n",
    "    def is_valid_number(stu_num):\n",
    "        if len(stu_num) != 4 or not stu_num.startswith(\"S\"):\n",
    "            raise ValueError(\"Invalid Student number!\")\n",
    "    # instance method\n",
    "    def __str__(self):\n",
    "        return f\"name:{self.name},student number:{self.stu_num},scores:{self.scores}\""
   ]
  },
  {
   "cell_type": "code",
   "execution_count": 21,
   "metadata": {},
   "outputs": [
    {
     "name": "stdout",
     "output_type": "stream",
     "text": [
      "0\n"
     ]
    }
   ],
   "source": [
    "Student.show_numbers()"
   ]
  },
  {
   "cell_type": "code",
   "execution_count": 49,
   "metadata": {},
   "outputs": [],
   "source": [
    "#is_valid_number(\"Sg123\")\n",
    "try:\n",
    "    s1 = Student(\"a\", \"S123\", [12, 4])\n",
    "except Exception as e:\n",
    "    print(e)\n",
    "#s1.show_numbers()"
   ]
  },
  {
   "cell_type": "code",
   "execution_count": 39,
   "metadata": {},
   "outputs": [
    {
     "name": "stdout",
     "output_type": "stream",
     "text": [
      "class method:  20\n",
      "class method:  25\n"
     ]
    }
   ],
   "source": [
    "Student.add_numbers()\n",
    "Student.show_numbers()"
   ]
  },
  {
   "cell_type": "markdown",
   "metadata": {},
   "source": [
    "### Example"
   ]
  },
  {
   "cell_type": "code",
   "execution_count": 57,
   "metadata": {},
   "outputs": [],
   "source": [
    "# type ====> B1, B2\n",
    "# title\n",
    "class Book:\n",
    "    types = (\"B1\", \"B2\")\n",
    "    def __init__(self, title, type):\n",
    "        self.title = title\n",
    "        self.is_valid_type(type)\n",
    "        self.type = type\n",
    "    @classmethod\n",
    "    def show_types(cls):\n",
    "        print(cls.types)\n",
    "\n",
    "    @staticmethod\n",
    "    def is_valid_type(book_type):\n",
    "        if book_type not in Book.types:\n",
    "            raise ValueError(f\"{book_type} in not valid!\")\n",
    "    def __str__(self):\n",
    "        return f\"title : {self.title}, type:{self.type}\"\n"
   ]
  },
  {
   "cell_type": "code",
   "execution_count": 58,
   "metadata": {},
   "outputs": [
    {
     "name": "stdout",
     "output_type": "stream",
     "text": [
      "title : t1, type:B2\n"
     ]
    }
   ],
   "source": [
    "b1 = Book(\"t1\", \"B2\")\n",
    "print(b1)"
   ]
  },
  {
   "cell_type": "code",
   "execution_count": 59,
   "metadata": {},
   "outputs": [
    {
     "name": "stdout",
     "output_type": "stream",
     "text": [
      "('B1', 'B2')\n"
     ]
    }
   ],
   "source": [
    "Book.show_types()"
   ]
  }
 ],
 "metadata": {
  "kernelspec": {
   "display_name": "base",
   "language": "python",
   "name": "python3"
  },
  "language_info": {
   "codemirror_mode": {
    "name": "ipython",
    "version": 3
   },
   "file_extension": ".py",
   "mimetype": "text/x-python",
   "name": "python",
   "nbconvert_exporter": "python",
   "pygments_lexer": "ipython3",
   "version": "3.9.13"
  },
  "orig_nbformat": 4
 },
 "nbformat": 4,
 "nbformat_minor": 2
}

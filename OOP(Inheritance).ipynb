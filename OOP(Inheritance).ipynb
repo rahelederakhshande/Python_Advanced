{
 "cells": [
  {
   "cell_type": "markdown",
   "metadata": {},
   "source": [
    "## Inheritance"
   ]
  },
  {
   "cell_type": "markdown",
   "metadata": {},
   "source": [
    "1. Single Inheritance"
   ]
  },
  {
   "cell_type": "code",
   "execution_count": 1,
   "metadata": {},
   "outputs": [],
   "source": [
    "class Product:\n",
    "    def __init__(self, name, price, category):\n",
    "        self.name = name\n",
    "        self.price = price\n",
    "        self.category = category\n",
    "\n",
    "    def __str__(self):\n",
    "        return f\"{self.name}, {self.price}, {self.category}\"\n",
    "    \n",
    "    def show_price(self):\n",
    "        print(f\"price: {self.price}\")\n",
    "\n",
    "    def apply_discount(self, value):\n",
    "        if value < 0 or value > 100:\n",
    "            raise ValueError(\"between 0 and 100\")\n",
    "        discount = self.price * (value / 100)\n",
    "        self.price -= discount\n",
    "\n",
    "class Book(Product):\n",
    "    def __init__(self, name, price, category, author, pages):\n",
    "        super().__init__(name, price, category)\n",
    "        self.author = author\n",
    "        self.pages = pages"
   ]
  },
  {
   "cell_type": "markdown",
   "metadata": {},
   "source": [
    "2. Hierarchical Inheritance"
   ]
  },
  {
   "cell_type": "code",
   "execution_count": 3,
   "metadata": {},
   "outputs": [
    {
     "name": "stdout",
     "output_type": "stream",
     "text": [
      "{'name': 'p1', 'price': 200, 'category': 'c2'}\n",
      "200\n",
      "a1\n",
      "{'name': 'b1', 'price': 200, 'category': 'c6', 'author': 'a1', 'pages': 200}\n"
     ]
    }
   ],
   "source": [
    "class Product:\n",
    "    def __init__(self, name, price, category):\n",
    "        self.name = name\n",
    "        self.price = price\n",
    "        self.category = category\n",
    "\n",
    "    def __str__(self):\n",
    "        return f\"{self.name}, {self.price}, {self.category}\"\n",
    "    \n",
    "    def show_price(self):\n",
    "        print(f\"price: {self.price}\")\n",
    "\n",
    "    def apply_discount(self, value):\n",
    "        if value < 0 or value > 100:\n",
    "            raise ValueError(\"between 0 and 100\")\n",
    "        discount = self.price * (value / 100)\n",
    "        self.price -= discount\n",
    "\n",
    "class Book(Product):\n",
    "    def __init__(self, name, price, category, author, pages):\n",
    "        super().__init__(name, price, category)\n",
    "        self.author = author\n",
    "        self.pages = pages\n",
    "    \n",
    "    def __str__(self):\n",
    "        return f\"{super().__str__()}, {self.author}, {self.pages}\"\n",
    "\n",
    "    def show_name(self):\n",
    "        print(self.name)\n",
    "\n",
    "class Laptop(Product):\n",
    "    def __init__(self, name, price, category, processor, ram):\n",
    "        super().__init__(name, price, category)\n",
    "        self.processor = processor\n",
    "        self.ram = ram\n",
    "    \n",
    "    def __str__(self):\n",
    "        return f\"{super().__str__()}, {self.processor}, {self.ram}\"\n",
    "if __name__ == \"__main__\":\n",
    "    p1 = Product(\"p1\", 200, \"c2\")\n",
    "    print(vars(p1))\n",
    "    b1 = Book(\"b1\", 200, \"c6\", \"a1\", 200)\n",
    "    print(b1.pages)\n",
    "    print(b1.author)\n",
    "    print(vars(b1))\n",
    "    #print(b1)\n",
    "    #b1.show_name()\n",
    "    #p1.show_name()"
   ]
  },
  {
   "cell_type": "markdown",
   "metadata": {},
   "source": [
    "3. Multilevel Inheritance"
   ]
  },
  {
   "cell_type": "code",
   "execution_count": 4,
   "metadata": {},
   "outputs": [],
   "source": [
    "class Product:\n",
    "    def __init__(self, name, price, category):\n",
    "        self.name = name\n",
    "        self.price = price\n",
    "        self.category = category\n",
    "\n",
    "    def __str__(self):\n",
    "        return f\"{self.name}, {self.price}, {self.category}\"\n",
    "    "
   ]
  },
  {
   "cell_type": "code",
   "execution_count": 5,
   "metadata": {},
   "outputs": [],
   "source": [
    "class ElectronicProduct(Product):\n",
    "    def __init__(self, name, price, category, brand):\n",
    "        super().__init__(name, price, category)\n",
    "        self.brand = brand\n",
    "    def __str__(self):\n",
    "        return f\"{super().__str__()}, {self.brand}\""
   ]
  },
  {
   "cell_type": "code",
   "execution_count": 6,
   "metadata": {},
   "outputs": [],
   "source": [
    "class Laptop(ElectronicProduct):\n",
    "    def __init__(self, name, price, category, processor, ram, brand):\n",
    "        super().__init__(name, price, category, brand)\n",
    "        self.processor = processor\n",
    "        self.ram = ram\n",
    "    \n",
    "    def __str__(self):\n",
    "        return f\"{super().__str__()}, {self.processor}, {self.ram}\""
   ]
  },
  {
   "cell_type": "code",
   "execution_count": 7,
   "metadata": {},
   "outputs": [
    {
     "name": "stdout",
     "output_type": "stream",
     "text": [
      "l1, 2000, c1, b1, 1, 16\n"
     ]
    }
   ],
   "source": [
    "l1 = Laptop(\"l1\", 2000, \"c1\", 1, 16, \"b1\")\n",
    "print(l1)"
   ]
  },
  {
   "cell_type": "markdown",
   "metadata": {},
   "source": [
    "4. Multiple Inheritance"
   ]
  },
  {
   "cell_type": "code",
   "execution_count": 8,
   "metadata": {},
   "outputs": [],
   "source": [
    "class Product:\n",
    "    def __init__(self, name, price, category):\n",
    "        self.name = name\n",
    "        self.price = price\n",
    "        self.category = category\n",
    "\n",
    "    def __str__(self):\n",
    "        return f\"{self.name}, {self.price}, {self.category}\"\n",
    "    "
   ]
  },
  {
   "cell_type": "code",
   "execution_count": 9,
   "metadata": {},
   "outputs": [],
   "source": [
    "class ElectronicProduct:\n",
    "    def __init__(self, brand):\n",
    "        self.brand = brand\n",
    "    def __str__(self):\n",
    "        return self.brand"
   ]
  },
  {
   "cell_type": "code",
   "execution_count": 10,
   "metadata": {},
   "outputs": [],
   "source": [
    "class Laptop(ElectronicProduct, Product):\n",
    "    def __init__(self, name, price, category, processor, ram, brand):\n",
    "        Product.__init__(self, name, price, category)\n",
    "        ElectronicProduct.__init__(self, brand)\n",
    "        self.processor = processor\n",
    "        self.ram = ram\n",
    "    \n",
    "    def __str__(self):\n",
    "        return f\"{Product.__str__(self)}, {ElectronicProduct.__str__(self)}, {self.processor}, {self.ram}\""
   ]
  },
  {
   "cell_type": "code",
   "execution_count": 11,
   "metadata": {},
   "outputs": [
    {
     "name": "stdout",
     "output_type": "stream",
     "text": [
      "{'name': 'l1', 'price': 20000, 'category': 'cat1', 'brand': 'b1', 'processor': 12, 'ram': 17}\n",
      "l1, 20000, cat1, b1, 12, 17\n"
     ]
    }
   ],
   "source": [
    "l1 = Laptop(\"l1\", 20000, \"cat1\", 12, 17, \"b1\")\n",
    "l2 = Laptop(\"l1\", 20000, \"cat1\", 12, 17, \"b1\")\n",
    "print(vars(l1))\n",
    "print(l1)"
   ]
  }
 ],
 "metadata": {
  "kernelspec": {
   "display_name": "base",
   "language": "python",
   "name": "python3"
  },
  "language_info": {
   "codemirror_mode": {
    "name": "ipython",
    "version": 3
   },
   "file_extension": ".py",
   "mimetype": "text/x-python",
   "name": "python",
   "nbconvert_exporter": "python",
   "pygments_lexer": "ipython3",
   "version": "3.12.0"
  },
  "orig_nbformat": 4
 },
 "nbformat": 4,
 "nbformat_minor": 2
}
